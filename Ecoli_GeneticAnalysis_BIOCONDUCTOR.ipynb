{
 "cells": [
  {
   "cell_type": "markdown",
   "metadata": {},
   "source": [
    "# E. coli - Genetic analysis with Bioconductor in R"
   ]
  },
  {
   "cell_type": "code",
   "execution_count": 1,
   "metadata": {},
   "outputs": [
    {
     "name": "stderr",
     "output_type": "stream",
     "text": [
      "Bioconductor version 3.10 (BiocManager 1.30.10), R 3.6.1 (2019-07-05)\n",
      "Installing package(s) 'BSgenome'\n"
     ]
    },
    {
     "name": "stdout",
     "output_type": "stream",
     "text": [
      "package 'BSgenome' successfully unpacked and MD5 sums checked\n",
      "\n",
      "The downloaded binary packages are in\n",
      "\tC:\\Users\\cleme\\AppData\\Local\\Temp\\RtmpGG9lP0\\downloaded_packages\n"
     ]
    },
    {
     "name": "stderr",
     "output_type": "stream",
     "text": [
      "Old packages: 'askpass', 'backports', 'BH', 'boot', 'broom', 'callr', 'caret',\n",
      "  'class', 'cli', 'clipr', 'cluster', 'curl', 'data.table', 'DBI', 'dbplyr',\n",
      "  'devtools', 'digest', 'doParallel', 'dplyr', 'e1071', 'ellipse', 'ellipsis',\n",
      "  'evaluate', 'fansi', 'forcats', 'foreach', 'formatR', 'fs', 'ggplot2', 'gh',\n",
      "  'git2r', 'glmnet', 'glue', 'gower', 'h2o', 'haven', 'hexbin', 'hms',\n",
      "  'htmltools', 'htmlwidgets', 'httpuv', 'httr', 'ipred', 'IRkernel',\n",
      "  'ISOcodes', 'iterators', 'jsonlite', 'KernSmooth', 'knitr', 'later',\n",
      "  'lattice', 'lava', 'lubridate', 'markdown', 'MASS', 'Matrix', 'mgcv', 'mime',\n",
      "  'miscTools', 'ModelMetrics', 'modelr', 'nlme', 'nnet', 'numDeriv', 'openssl',\n",
      "  'pillar', 'pkgbuild', 'pkgconfig', 'pkgload', 'plyr', 'prettyunits',\n",
      "  'processx', 'prodlim', 'progress', 'promises', 'ps', 'purrr', 'quantmod',\n",
      "  'R6', 'rcmdcheck', 'Rcpp', 'RcppArmadillo', 'RCurl', 'recipes', 'remotes',\n",
      "  'repr', 'reprex', 'reshape2', 'rlang', 'rmarkdown', 'rstudioapi', 'rvest',\n",
      "  'scales', 'selectr', 'shiny', 'SnowballC', 'spatial', 'SQUAREM', 'stopwords',\n",
      "  'stringi', 'survival', 'sys', 'tibble', 'tidyr', 'tidyselect', 'tidytext',\n",
      "  'tidyverse', 'tinytex', 'TTR', 'usethis', 'uuid', 'whisker', 'withr', 'xfun',\n",
      "  'xgboost', 'xml2', 'xts', 'yaml', 'zoo'\n",
      "Loading required package: BiocGenerics\n",
      "Loading required package: parallel\n",
      "\n",
      "Attaching package: 'BiocGenerics'\n",
      "\n",
      "The following objects are masked from 'package:parallel':\n",
      "\n",
      "    clusterApply, clusterApplyLB, clusterCall, clusterEvalQ,\n",
      "    clusterExport, clusterMap, parApply, parCapply, parLapply,\n",
      "    parLapplyLB, parRapply, parSapply, parSapplyLB\n",
      "\n",
      "The following objects are masked from 'package:stats':\n",
      "\n",
      "    IQR, mad, sd, var, xtabs\n",
      "\n",
      "The following objects are masked from 'package:base':\n",
      "\n",
      "    anyDuplicated, append, as.data.frame, basename, cbind, colnames,\n",
      "    dirname, do.call, duplicated, eval, evalq, Filter, Find, get, grep,\n",
      "    grepl, intersect, is.unsorted, lapply, Map, mapply, match, mget,\n",
      "    order, paste, pmax, pmax.int, pmin, pmin.int, Position, rank,\n",
      "    rbind, Reduce, rownames, sapply, setdiff, sort, table, tapply,\n",
      "    union, unique, unsplit, which, which.max, which.min\n",
      "\n",
      "Loading required package: S4Vectors\n",
      "Warning message:\n",
      "\"package 'S4Vectors' was built under R version 3.6.3\"Loading required package: stats4\n",
      "\n",
      "Attaching package: 'S4Vectors'\n",
      "\n",
      "The following object is masked from 'package:base':\n",
      "\n",
      "    expand.grid\n",
      "\n",
      "Loading required package: IRanges\n",
      "Warning message:\n",
      "\"package 'IRanges' was built under R version 3.6.2\"\n",
      "Attaching package: 'IRanges'\n",
      "\n",
      "The following object is masked from 'package:grDevices':\n",
      "\n",
      "    windows\n",
      "\n",
      "Loading required package: GenomeInfoDb\n",
      "Warning message:\n",
      "\"package 'GenomeInfoDb' was built under R version 3.6.3\"Loading required package: GenomicRanges\n",
      "Loading required package: Biostrings\n",
      "Loading required package: XVector\n",
      "\n",
      "Attaching package: 'Biostrings'\n",
      "\n",
      "The following object is masked from 'package:base':\n",
      "\n",
      "    strsplit\n",
      "\n",
      "Loading required package: rtracklayer\n"
     ]
    },
    {
     "data": {
      "text/plain": [
       "[1] '1.54.0'"
      ]
     },
     "metadata": {},
     "output_type": "display_data"
    }
   ],
   "source": [
    "# Using Bioconductor, R version 3.6\n",
    "BiocManager::install(\"BSgenome\")\n",
    "\n",
    "# Load the BSgenome package\n",
    "library(BSgenome)\n",
    "\n",
    "#Check version\n",
    "packageVersion(\"BSgenome\")"
   ]
  },
  {
   "cell_type": "code",
   "execution_count": 4,
   "metadata": {},
   "outputs": [
    {
     "name": "stdout",
     "output_type": "stream",
     "text": [
      "Class \"BSgenome\" [package \"BSgenome\"]\n",
      "\n",
      "Slots:\n",
      "                                                                     \n",
      "Name:               pkgname     single_sequences   multiple_sequences\n",
      "Class:            character OnDiskNamedSequences        RdaCollection\n",
      "                                                                     \n",
      "Name:            source_url        user_seqnames   injectSNPs_handler\n",
      "Class:            character            character    InjectSNPsHandler\n",
      "                                                                     \n",
      "Name:           .seqs_cache         .link_counts        nmask_per_seq\n",
      "Class:          environment          environment              integer\n",
      "                                                                     \n",
      "Name:                 masks             organism          common_name\n",
      "Class:        RdaCollection            character            character\n",
      "                                                                     \n",
      "Name:              provider     provider_version         release_date\n",
      "Class:            character            character            character\n",
      "                                                \n",
      "Name:          release_name              seqinfo\n",
      "Class:            character              Seqinfo\n",
      "\n",
      "Extends: \"GenomeDescription\"\n",
      "\n",
      "Known Subclasses: \"MaskedBSgenome\"\n"
     ]
    }
   ],
   "source": [
    "# Check the BSgenome class results and find its parent classes (Extends) and the classes that inherit from it (Subclasses).\n",
    "showClass(\"BSgenome\")"
   ]
  },
  {
   "cell_type": "code",
   "execution_count": 8,
   "metadata": {},
   "outputs": [
    {
     "data": {
      "text/html": [
       "<ol class=list-inline>\n",
       "\t<li>'BSgenome.Alyrata.JGI.v1'</li>\n",
       "\t<li>'BSgenome.Amellifera.BeeBase.assembly4'</li>\n",
       "\t<li>'BSgenome.Amellifera.UCSC.apiMel2'</li>\n",
       "\t<li>'BSgenome.Amellifera.UCSC.apiMel2.masked'</li>\n",
       "\t<li>'BSgenome.Aofficinalis.NCBI.V1'</li>\n",
       "\t<li>'BSgenome.Athaliana.TAIR.04232008'</li>\n",
       "\t<li>'BSgenome.Athaliana.TAIR.TAIR9'</li>\n",
       "\t<li>'BSgenome.Btaurus.UCSC.bosTau3'</li>\n",
       "\t<li>'BSgenome.Btaurus.UCSC.bosTau3.masked'</li>\n",
       "\t<li>'BSgenome.Btaurus.UCSC.bosTau4'</li>\n",
       "\t<li>'BSgenome.Btaurus.UCSC.bosTau4.masked'</li>\n",
       "\t<li>'BSgenome.Btaurus.UCSC.bosTau6'</li>\n",
       "\t<li>'BSgenome.Btaurus.UCSC.bosTau6.masked'</li>\n",
       "\t<li>'BSgenome.Btaurus.UCSC.bosTau8'</li>\n",
       "\t<li>'BSgenome.Btaurus.UCSC.bosTau9'</li>\n",
       "\t<li>'BSgenome.Carietinum.NCBI.v1'</li>\n",
       "\t<li>'BSgenome.Celegans.UCSC.ce10'</li>\n",
       "\t<li>'BSgenome.Celegans.UCSC.ce11'</li>\n",
       "\t<li>'BSgenome.Celegans.UCSC.ce2'</li>\n",
       "\t<li>'BSgenome.Celegans.UCSC.ce6'</li>\n",
       "\t<li>'BSgenome.Cfamiliaris.UCSC.canFam2'</li>\n",
       "\t<li>'BSgenome.Cfamiliaris.UCSC.canFam2.masked'</li>\n",
       "\t<li>'BSgenome.Cfamiliaris.UCSC.canFam3'</li>\n",
       "\t<li>'BSgenome.Cfamiliaris.UCSC.canFam3.masked'</li>\n",
       "\t<li>'BSgenome.Cjacchus.UCSC.calJac3'</li>\n",
       "\t<li>'BSgenome.Dmelanogaster.UCSC.dm2'</li>\n",
       "\t<li>'BSgenome.Dmelanogaster.UCSC.dm2.masked'</li>\n",
       "\t<li>'BSgenome.Dmelanogaster.UCSC.dm3'</li>\n",
       "\t<li>'BSgenome.Dmelanogaster.UCSC.dm3.masked'</li>\n",
       "\t<li>'BSgenome.Dmelanogaster.UCSC.dm6'</li>\n",
       "\t<li>'BSgenome.Drerio.UCSC.danRer10'</li>\n",
       "\t<li>'BSgenome.Drerio.UCSC.danRer11'</li>\n",
       "\t<li>'BSgenome.Drerio.UCSC.danRer5'</li>\n",
       "\t<li>'BSgenome.Drerio.UCSC.danRer5.masked'</li>\n",
       "\t<li>'BSgenome.Drerio.UCSC.danRer6'</li>\n",
       "\t<li>'BSgenome.Drerio.UCSC.danRer6.masked'</li>\n",
       "\t<li>'BSgenome.Drerio.UCSC.danRer7'</li>\n",
       "\t<li>'BSgenome.Drerio.UCSC.danRer7.masked'</li>\n",
       "\t<li>'BSgenome.Ecoli.NCBI.20080805'</li>\n",
       "\t<li>'BSgenome.Gaculeatus.UCSC.gasAcu1'</li>\n",
       "\t<li>'BSgenome.Gaculeatus.UCSC.gasAcu1.masked'</li>\n",
       "\t<li>'BSgenome.Ggallus.UCSC.galGal3'</li>\n",
       "\t<li>'BSgenome.Ggallus.UCSC.galGal3.masked'</li>\n",
       "\t<li>'BSgenome.Ggallus.UCSC.galGal4'</li>\n",
       "\t<li>'BSgenome.Ggallus.UCSC.galGal4.masked'</li>\n",
       "\t<li>'BSgenome.Ggallus.UCSC.galGal5'</li>\n",
       "\t<li>'BSgenome.Ggallus.UCSC.galGal6'</li>\n",
       "\t<li>'BSgenome.Hsapiens.1000genomes.hs37d5'</li>\n",
       "\t<li>'BSgenome.Hsapiens.NCBI.GRCh38'</li>\n",
       "\t<li>'BSgenome.Hsapiens.UCSC.hg17'</li>\n",
       "\t<li>'BSgenome.Hsapiens.UCSC.hg17.masked'</li>\n",
       "\t<li>'BSgenome.Hsapiens.UCSC.hg18'</li>\n",
       "\t<li>'BSgenome.Hsapiens.UCSC.hg18.masked'</li>\n",
       "\t<li>'BSgenome.Hsapiens.UCSC.hg19'</li>\n",
       "\t<li>'BSgenome.Hsapiens.UCSC.hg19.masked'</li>\n",
       "\t<li>'BSgenome.Hsapiens.UCSC.hg38'</li>\n",
       "\t<li>'BSgenome.Hsapiens.UCSC.hg38.masked'</li>\n",
       "\t<li>'BSgenome.Mdomestica.UCSC.monDom5'</li>\n",
       "\t<li>'BSgenome.Mfascicularis.NCBI.5.0'</li>\n",
       "\t<li>'BSgenome.Mfuro.UCSC.musFur1'</li>\n",
       "\t<li>'BSgenome.Mmulatta.UCSC.rheMac10'</li>\n",
       "\t<li>'BSgenome.Mmulatta.UCSC.rheMac2'</li>\n",
       "\t<li>'BSgenome.Mmulatta.UCSC.rheMac2.masked'</li>\n",
       "\t<li>'BSgenome.Mmulatta.UCSC.rheMac3'</li>\n",
       "\t<li>'BSgenome.Mmulatta.UCSC.rheMac3.masked'</li>\n",
       "\t<li>'BSgenome.Mmulatta.UCSC.rheMac8'</li>\n",
       "\t<li>'BSgenome.Mmusculus.UCSC.mm10'</li>\n",
       "\t<li>'BSgenome.Mmusculus.UCSC.mm10.masked'</li>\n",
       "\t<li>'BSgenome.Mmusculus.UCSC.mm8'</li>\n",
       "\t<li>'BSgenome.Mmusculus.UCSC.mm8.masked'</li>\n",
       "\t<li>'BSgenome.Mmusculus.UCSC.mm9'</li>\n",
       "\t<li>'BSgenome.Mmusculus.UCSC.mm9.masked'</li>\n",
       "\t<li>'BSgenome.Osativa.MSU.MSU7'</li>\n",
       "\t<li>'BSgenome.Ptroglodytes.UCSC.panTro2'</li>\n",
       "\t<li>'BSgenome.Ptroglodytes.UCSC.panTro2.masked'</li>\n",
       "\t<li>'BSgenome.Ptroglodytes.UCSC.panTro3'</li>\n",
       "\t<li>'BSgenome.Ptroglodytes.UCSC.panTro3.masked'</li>\n",
       "\t<li>'BSgenome.Ptroglodytes.UCSC.panTro5'</li>\n",
       "\t<li>'BSgenome.Ptroglodytes.UCSC.panTro6'</li>\n",
       "\t<li>'BSgenome.Rnorvegicus.UCSC.rn4'</li>\n",
       "\t<li>'BSgenome.Rnorvegicus.UCSC.rn4.masked'</li>\n",
       "\t<li>'BSgenome.Rnorvegicus.UCSC.rn5'</li>\n",
       "\t<li>'BSgenome.Rnorvegicus.UCSC.rn5.masked'</li>\n",
       "\t<li>'BSgenome.Rnorvegicus.UCSC.rn6'</li>\n",
       "\t<li>'BSgenome.Scerevisiae.UCSC.sacCer1'</li>\n",
       "\t<li>'BSgenome.Scerevisiae.UCSC.sacCer2'</li>\n",
       "\t<li>'BSgenome.Scerevisiae.UCSC.sacCer3'</li>\n",
       "\t<li>'BSgenome.Sscrofa.UCSC.susScr11'</li>\n",
       "\t<li>'BSgenome.Sscrofa.UCSC.susScr3'</li>\n",
       "\t<li>'BSgenome.Sscrofa.UCSC.susScr3.masked'</li>\n",
       "\t<li>'BSgenome.Tgondii.ToxoDB.7.0'</li>\n",
       "\t<li>'BSgenome.Tguttata.UCSC.taeGut1'</li>\n",
       "\t<li>'BSgenome.Tguttata.UCSC.taeGut1.masked'</li>\n",
       "\t<li>'BSgenome.Tguttata.UCSC.taeGut2'</li>\n",
       "\t<li>'BSgenome.Vvinifera.URGI.IGGP12Xv0'</li>\n",
       "\t<li>'BSgenome.Vvinifera.URGI.IGGP12Xv2'</li>\n",
       "\t<li>'BSgenome.Vvinifera.URGI.IGGP8X'</li>\n",
       "</ol>\n"
      ],
      "text/latex": [
       "\\begin{enumerate*}\n",
       "\\item 'BSgenome.Alyrata.JGI.v1'\n",
       "\\item 'BSgenome.Amellifera.BeeBase.assembly4'\n",
       "\\item 'BSgenome.Amellifera.UCSC.apiMel2'\n",
       "\\item 'BSgenome.Amellifera.UCSC.apiMel2.masked'\n",
       "\\item 'BSgenome.Aofficinalis.NCBI.V1'\n",
       "\\item 'BSgenome.Athaliana.TAIR.04232008'\n",
       "\\item 'BSgenome.Athaliana.TAIR.TAIR9'\n",
       "\\item 'BSgenome.Btaurus.UCSC.bosTau3'\n",
       "\\item 'BSgenome.Btaurus.UCSC.bosTau3.masked'\n",
       "\\item 'BSgenome.Btaurus.UCSC.bosTau4'\n",
       "\\item 'BSgenome.Btaurus.UCSC.bosTau4.masked'\n",
       "\\item 'BSgenome.Btaurus.UCSC.bosTau6'\n",
       "\\item 'BSgenome.Btaurus.UCSC.bosTau6.masked'\n",
       "\\item 'BSgenome.Btaurus.UCSC.bosTau8'\n",
       "\\item 'BSgenome.Btaurus.UCSC.bosTau9'\n",
       "\\item 'BSgenome.Carietinum.NCBI.v1'\n",
       "\\item 'BSgenome.Celegans.UCSC.ce10'\n",
       "\\item 'BSgenome.Celegans.UCSC.ce11'\n",
       "\\item 'BSgenome.Celegans.UCSC.ce2'\n",
       "\\item 'BSgenome.Celegans.UCSC.ce6'\n",
       "\\item 'BSgenome.Cfamiliaris.UCSC.canFam2'\n",
       "\\item 'BSgenome.Cfamiliaris.UCSC.canFam2.masked'\n",
       "\\item 'BSgenome.Cfamiliaris.UCSC.canFam3'\n",
       "\\item 'BSgenome.Cfamiliaris.UCSC.canFam3.masked'\n",
       "\\item 'BSgenome.Cjacchus.UCSC.calJac3'\n",
       "\\item 'BSgenome.Dmelanogaster.UCSC.dm2'\n",
       "\\item 'BSgenome.Dmelanogaster.UCSC.dm2.masked'\n",
       "\\item 'BSgenome.Dmelanogaster.UCSC.dm3'\n",
       "\\item 'BSgenome.Dmelanogaster.UCSC.dm3.masked'\n",
       "\\item 'BSgenome.Dmelanogaster.UCSC.dm6'\n",
       "\\item 'BSgenome.Drerio.UCSC.danRer10'\n",
       "\\item 'BSgenome.Drerio.UCSC.danRer11'\n",
       "\\item 'BSgenome.Drerio.UCSC.danRer5'\n",
       "\\item 'BSgenome.Drerio.UCSC.danRer5.masked'\n",
       "\\item 'BSgenome.Drerio.UCSC.danRer6'\n",
       "\\item 'BSgenome.Drerio.UCSC.danRer6.masked'\n",
       "\\item 'BSgenome.Drerio.UCSC.danRer7'\n",
       "\\item 'BSgenome.Drerio.UCSC.danRer7.masked'\n",
       "\\item 'BSgenome.Ecoli.NCBI.20080805'\n",
       "\\item 'BSgenome.Gaculeatus.UCSC.gasAcu1'\n",
       "\\item 'BSgenome.Gaculeatus.UCSC.gasAcu1.masked'\n",
       "\\item 'BSgenome.Ggallus.UCSC.galGal3'\n",
       "\\item 'BSgenome.Ggallus.UCSC.galGal3.masked'\n",
       "\\item 'BSgenome.Ggallus.UCSC.galGal4'\n",
       "\\item 'BSgenome.Ggallus.UCSC.galGal4.masked'\n",
       "\\item 'BSgenome.Ggallus.UCSC.galGal5'\n",
       "\\item 'BSgenome.Ggallus.UCSC.galGal6'\n",
       "\\item 'BSgenome.Hsapiens.1000genomes.hs37d5'\n",
       "\\item 'BSgenome.Hsapiens.NCBI.GRCh38'\n",
       "\\item 'BSgenome.Hsapiens.UCSC.hg17'\n",
       "\\item 'BSgenome.Hsapiens.UCSC.hg17.masked'\n",
       "\\item 'BSgenome.Hsapiens.UCSC.hg18'\n",
       "\\item 'BSgenome.Hsapiens.UCSC.hg18.masked'\n",
       "\\item 'BSgenome.Hsapiens.UCSC.hg19'\n",
       "\\item 'BSgenome.Hsapiens.UCSC.hg19.masked'\n",
       "\\item 'BSgenome.Hsapiens.UCSC.hg38'\n",
       "\\item 'BSgenome.Hsapiens.UCSC.hg38.masked'\n",
       "\\item 'BSgenome.Mdomestica.UCSC.monDom5'\n",
       "\\item 'BSgenome.Mfascicularis.NCBI.5.0'\n",
       "\\item 'BSgenome.Mfuro.UCSC.musFur1'\n",
       "\\item 'BSgenome.Mmulatta.UCSC.rheMac10'\n",
       "\\item 'BSgenome.Mmulatta.UCSC.rheMac2'\n",
       "\\item 'BSgenome.Mmulatta.UCSC.rheMac2.masked'\n",
       "\\item 'BSgenome.Mmulatta.UCSC.rheMac3'\n",
       "\\item 'BSgenome.Mmulatta.UCSC.rheMac3.masked'\n",
       "\\item 'BSgenome.Mmulatta.UCSC.rheMac8'\n",
       "\\item 'BSgenome.Mmusculus.UCSC.mm10'\n",
       "\\item 'BSgenome.Mmusculus.UCSC.mm10.masked'\n",
       "\\item 'BSgenome.Mmusculus.UCSC.mm8'\n",
       "\\item 'BSgenome.Mmusculus.UCSC.mm8.masked'\n",
       "\\item 'BSgenome.Mmusculus.UCSC.mm9'\n",
       "\\item 'BSgenome.Mmusculus.UCSC.mm9.masked'\n",
       "\\item 'BSgenome.Osativa.MSU.MSU7'\n",
       "\\item 'BSgenome.Ptroglodytes.UCSC.panTro2'\n",
       "\\item 'BSgenome.Ptroglodytes.UCSC.panTro2.masked'\n",
       "\\item 'BSgenome.Ptroglodytes.UCSC.panTro3'\n",
       "\\item 'BSgenome.Ptroglodytes.UCSC.panTro3.masked'\n",
       "\\item 'BSgenome.Ptroglodytes.UCSC.panTro5'\n",
       "\\item 'BSgenome.Ptroglodytes.UCSC.panTro6'\n",
       "\\item 'BSgenome.Rnorvegicus.UCSC.rn4'\n",
       "\\item 'BSgenome.Rnorvegicus.UCSC.rn4.masked'\n",
       "\\item 'BSgenome.Rnorvegicus.UCSC.rn5'\n",
       "\\item 'BSgenome.Rnorvegicus.UCSC.rn5.masked'\n",
       "\\item 'BSgenome.Rnorvegicus.UCSC.rn6'\n",
       "\\item 'BSgenome.Scerevisiae.UCSC.sacCer1'\n",
       "\\item 'BSgenome.Scerevisiae.UCSC.sacCer2'\n",
       "\\item 'BSgenome.Scerevisiae.UCSC.sacCer3'\n",
       "\\item 'BSgenome.Sscrofa.UCSC.susScr11'\n",
       "\\item 'BSgenome.Sscrofa.UCSC.susScr3'\n",
       "\\item 'BSgenome.Sscrofa.UCSC.susScr3.masked'\n",
       "\\item 'BSgenome.Tgondii.ToxoDB.7.0'\n",
       "\\item 'BSgenome.Tguttata.UCSC.taeGut1'\n",
       "\\item 'BSgenome.Tguttata.UCSC.taeGut1.masked'\n",
       "\\item 'BSgenome.Tguttata.UCSC.taeGut2'\n",
       "\\item 'BSgenome.Vvinifera.URGI.IGGP12Xv0'\n",
       "\\item 'BSgenome.Vvinifera.URGI.IGGP12Xv2'\n",
       "\\item 'BSgenome.Vvinifera.URGI.IGGP8X'\n",
       "\\end{enumerate*}\n"
      ],
      "text/markdown": [
       "1. 'BSgenome.Alyrata.JGI.v1'\n",
       "2. 'BSgenome.Amellifera.BeeBase.assembly4'\n",
       "3. 'BSgenome.Amellifera.UCSC.apiMel2'\n",
       "4. 'BSgenome.Amellifera.UCSC.apiMel2.masked'\n",
       "5. 'BSgenome.Aofficinalis.NCBI.V1'\n",
       "6. 'BSgenome.Athaliana.TAIR.04232008'\n",
       "7. 'BSgenome.Athaliana.TAIR.TAIR9'\n",
       "8. 'BSgenome.Btaurus.UCSC.bosTau3'\n",
       "9. 'BSgenome.Btaurus.UCSC.bosTau3.masked'\n",
       "10. 'BSgenome.Btaurus.UCSC.bosTau4'\n",
       "11. 'BSgenome.Btaurus.UCSC.bosTau4.masked'\n",
       "12. 'BSgenome.Btaurus.UCSC.bosTau6'\n",
       "13. 'BSgenome.Btaurus.UCSC.bosTau6.masked'\n",
       "14. 'BSgenome.Btaurus.UCSC.bosTau8'\n",
       "15. 'BSgenome.Btaurus.UCSC.bosTau9'\n",
       "16. 'BSgenome.Carietinum.NCBI.v1'\n",
       "17. 'BSgenome.Celegans.UCSC.ce10'\n",
       "18. 'BSgenome.Celegans.UCSC.ce11'\n",
       "19. 'BSgenome.Celegans.UCSC.ce2'\n",
       "20. 'BSgenome.Celegans.UCSC.ce6'\n",
       "21. 'BSgenome.Cfamiliaris.UCSC.canFam2'\n",
       "22. 'BSgenome.Cfamiliaris.UCSC.canFam2.masked'\n",
       "23. 'BSgenome.Cfamiliaris.UCSC.canFam3'\n",
       "24. 'BSgenome.Cfamiliaris.UCSC.canFam3.masked'\n",
       "25. 'BSgenome.Cjacchus.UCSC.calJac3'\n",
       "26. 'BSgenome.Dmelanogaster.UCSC.dm2'\n",
       "27. 'BSgenome.Dmelanogaster.UCSC.dm2.masked'\n",
       "28. 'BSgenome.Dmelanogaster.UCSC.dm3'\n",
       "29. 'BSgenome.Dmelanogaster.UCSC.dm3.masked'\n",
       "30. 'BSgenome.Dmelanogaster.UCSC.dm6'\n",
       "31. 'BSgenome.Drerio.UCSC.danRer10'\n",
       "32. 'BSgenome.Drerio.UCSC.danRer11'\n",
       "33. 'BSgenome.Drerio.UCSC.danRer5'\n",
       "34. 'BSgenome.Drerio.UCSC.danRer5.masked'\n",
       "35. 'BSgenome.Drerio.UCSC.danRer6'\n",
       "36. 'BSgenome.Drerio.UCSC.danRer6.masked'\n",
       "37. 'BSgenome.Drerio.UCSC.danRer7'\n",
       "38. 'BSgenome.Drerio.UCSC.danRer7.masked'\n",
       "39. 'BSgenome.Ecoli.NCBI.20080805'\n",
       "40. 'BSgenome.Gaculeatus.UCSC.gasAcu1'\n",
       "41. 'BSgenome.Gaculeatus.UCSC.gasAcu1.masked'\n",
       "42. 'BSgenome.Ggallus.UCSC.galGal3'\n",
       "43. 'BSgenome.Ggallus.UCSC.galGal3.masked'\n",
       "44. 'BSgenome.Ggallus.UCSC.galGal4'\n",
       "45. 'BSgenome.Ggallus.UCSC.galGal4.masked'\n",
       "46. 'BSgenome.Ggallus.UCSC.galGal5'\n",
       "47. 'BSgenome.Ggallus.UCSC.galGal6'\n",
       "48. 'BSgenome.Hsapiens.1000genomes.hs37d5'\n",
       "49. 'BSgenome.Hsapiens.NCBI.GRCh38'\n",
       "50. 'BSgenome.Hsapiens.UCSC.hg17'\n",
       "51. 'BSgenome.Hsapiens.UCSC.hg17.masked'\n",
       "52. 'BSgenome.Hsapiens.UCSC.hg18'\n",
       "53. 'BSgenome.Hsapiens.UCSC.hg18.masked'\n",
       "54. 'BSgenome.Hsapiens.UCSC.hg19'\n",
       "55. 'BSgenome.Hsapiens.UCSC.hg19.masked'\n",
       "56. 'BSgenome.Hsapiens.UCSC.hg38'\n",
       "57. 'BSgenome.Hsapiens.UCSC.hg38.masked'\n",
       "58. 'BSgenome.Mdomestica.UCSC.monDom5'\n",
       "59. 'BSgenome.Mfascicularis.NCBI.5.0'\n",
       "60. 'BSgenome.Mfuro.UCSC.musFur1'\n",
       "61. 'BSgenome.Mmulatta.UCSC.rheMac10'\n",
       "62. 'BSgenome.Mmulatta.UCSC.rheMac2'\n",
       "63. 'BSgenome.Mmulatta.UCSC.rheMac2.masked'\n",
       "64. 'BSgenome.Mmulatta.UCSC.rheMac3'\n",
       "65. 'BSgenome.Mmulatta.UCSC.rheMac3.masked'\n",
       "66. 'BSgenome.Mmulatta.UCSC.rheMac8'\n",
       "67. 'BSgenome.Mmusculus.UCSC.mm10'\n",
       "68. 'BSgenome.Mmusculus.UCSC.mm10.masked'\n",
       "69. 'BSgenome.Mmusculus.UCSC.mm8'\n",
       "70. 'BSgenome.Mmusculus.UCSC.mm8.masked'\n",
       "71. 'BSgenome.Mmusculus.UCSC.mm9'\n",
       "72. 'BSgenome.Mmusculus.UCSC.mm9.masked'\n",
       "73. 'BSgenome.Osativa.MSU.MSU7'\n",
       "74. 'BSgenome.Ptroglodytes.UCSC.panTro2'\n",
       "75. 'BSgenome.Ptroglodytes.UCSC.panTro2.masked'\n",
       "76. 'BSgenome.Ptroglodytes.UCSC.panTro3'\n",
       "77. 'BSgenome.Ptroglodytes.UCSC.panTro3.masked'\n",
       "78. 'BSgenome.Ptroglodytes.UCSC.panTro5'\n",
       "79. 'BSgenome.Ptroglodytes.UCSC.panTro6'\n",
       "80. 'BSgenome.Rnorvegicus.UCSC.rn4'\n",
       "81. 'BSgenome.Rnorvegicus.UCSC.rn4.masked'\n",
       "82. 'BSgenome.Rnorvegicus.UCSC.rn5'\n",
       "83. 'BSgenome.Rnorvegicus.UCSC.rn5.masked'\n",
       "84. 'BSgenome.Rnorvegicus.UCSC.rn6'\n",
       "85. 'BSgenome.Scerevisiae.UCSC.sacCer1'\n",
       "86. 'BSgenome.Scerevisiae.UCSC.sacCer2'\n",
       "87. 'BSgenome.Scerevisiae.UCSC.sacCer3'\n",
       "88. 'BSgenome.Sscrofa.UCSC.susScr11'\n",
       "89. 'BSgenome.Sscrofa.UCSC.susScr3'\n",
       "90. 'BSgenome.Sscrofa.UCSC.susScr3.masked'\n",
       "91. 'BSgenome.Tgondii.ToxoDB.7.0'\n",
       "92. 'BSgenome.Tguttata.UCSC.taeGut1'\n",
       "93. 'BSgenome.Tguttata.UCSC.taeGut1.masked'\n",
       "94. 'BSgenome.Tguttata.UCSC.taeGut2'\n",
       "95. 'BSgenome.Vvinifera.URGI.IGGP12Xv0'\n",
       "96. 'BSgenome.Vvinifera.URGI.IGGP12Xv2'\n",
       "97. 'BSgenome.Vvinifera.URGI.IGGP8X'\n",
       "\n",
       "\n"
      ],
      "text/plain": [
       " [1] \"BSgenome.Alyrata.JGI.v1\"                  \n",
       " [2] \"BSgenome.Amellifera.BeeBase.assembly4\"    \n",
       " [3] \"BSgenome.Amellifera.UCSC.apiMel2\"         \n",
       " [4] \"BSgenome.Amellifera.UCSC.apiMel2.masked\"  \n",
       " [5] \"BSgenome.Aofficinalis.NCBI.V1\"            \n",
       " [6] \"BSgenome.Athaliana.TAIR.04232008\"         \n",
       " [7] \"BSgenome.Athaliana.TAIR.TAIR9\"            \n",
       " [8] \"BSgenome.Btaurus.UCSC.bosTau3\"            \n",
       " [9] \"BSgenome.Btaurus.UCSC.bosTau3.masked\"     \n",
       "[10] \"BSgenome.Btaurus.UCSC.bosTau4\"            \n",
       "[11] \"BSgenome.Btaurus.UCSC.bosTau4.masked\"     \n",
       "[12] \"BSgenome.Btaurus.UCSC.bosTau6\"            \n",
       "[13] \"BSgenome.Btaurus.UCSC.bosTau6.masked\"     \n",
       "[14] \"BSgenome.Btaurus.UCSC.bosTau8\"            \n",
       "[15] \"BSgenome.Btaurus.UCSC.bosTau9\"            \n",
       "[16] \"BSgenome.Carietinum.NCBI.v1\"              \n",
       "[17] \"BSgenome.Celegans.UCSC.ce10\"              \n",
       "[18] \"BSgenome.Celegans.UCSC.ce11\"              \n",
       "[19] \"BSgenome.Celegans.UCSC.ce2\"               \n",
       "[20] \"BSgenome.Celegans.UCSC.ce6\"               \n",
       "[21] \"BSgenome.Cfamiliaris.UCSC.canFam2\"        \n",
       "[22] \"BSgenome.Cfamiliaris.UCSC.canFam2.masked\" \n",
       "[23] \"BSgenome.Cfamiliaris.UCSC.canFam3\"        \n",
       "[24] \"BSgenome.Cfamiliaris.UCSC.canFam3.masked\" \n",
       "[25] \"BSgenome.Cjacchus.UCSC.calJac3\"           \n",
       "[26] \"BSgenome.Dmelanogaster.UCSC.dm2\"          \n",
       "[27] \"BSgenome.Dmelanogaster.UCSC.dm2.masked\"   \n",
       "[28] \"BSgenome.Dmelanogaster.UCSC.dm3\"          \n",
       "[29] \"BSgenome.Dmelanogaster.UCSC.dm3.masked\"   \n",
       "[30] \"BSgenome.Dmelanogaster.UCSC.dm6\"          \n",
       "[31] \"BSgenome.Drerio.UCSC.danRer10\"            \n",
       "[32] \"BSgenome.Drerio.UCSC.danRer11\"            \n",
       "[33] \"BSgenome.Drerio.UCSC.danRer5\"             \n",
       "[34] \"BSgenome.Drerio.UCSC.danRer5.masked\"      \n",
       "[35] \"BSgenome.Drerio.UCSC.danRer6\"             \n",
       "[36] \"BSgenome.Drerio.UCSC.danRer6.masked\"      \n",
       "[37] \"BSgenome.Drerio.UCSC.danRer7\"             \n",
       "[38] \"BSgenome.Drerio.UCSC.danRer7.masked\"      \n",
       "[39] \"BSgenome.Ecoli.NCBI.20080805\"             \n",
       "[40] \"BSgenome.Gaculeatus.UCSC.gasAcu1\"         \n",
       "[41] \"BSgenome.Gaculeatus.UCSC.gasAcu1.masked\"  \n",
       "[42] \"BSgenome.Ggallus.UCSC.galGal3\"            \n",
       "[43] \"BSgenome.Ggallus.UCSC.galGal3.masked\"     \n",
       "[44] \"BSgenome.Ggallus.UCSC.galGal4\"            \n",
       "[45] \"BSgenome.Ggallus.UCSC.galGal4.masked\"     \n",
       "[46] \"BSgenome.Ggallus.UCSC.galGal5\"            \n",
       "[47] \"BSgenome.Ggallus.UCSC.galGal6\"            \n",
       "[48] \"BSgenome.Hsapiens.1000genomes.hs37d5\"     \n",
       "[49] \"BSgenome.Hsapiens.NCBI.GRCh38\"            \n",
       "[50] \"BSgenome.Hsapiens.UCSC.hg17\"              \n",
       "[51] \"BSgenome.Hsapiens.UCSC.hg17.masked\"       \n",
       "[52] \"BSgenome.Hsapiens.UCSC.hg18\"              \n",
       "[53] \"BSgenome.Hsapiens.UCSC.hg18.masked\"       \n",
       "[54] \"BSgenome.Hsapiens.UCSC.hg19\"              \n",
       "[55] \"BSgenome.Hsapiens.UCSC.hg19.masked\"       \n",
       "[56] \"BSgenome.Hsapiens.UCSC.hg38\"              \n",
       "[57] \"BSgenome.Hsapiens.UCSC.hg38.masked\"       \n",
       "[58] \"BSgenome.Mdomestica.UCSC.monDom5\"         \n",
       "[59] \"BSgenome.Mfascicularis.NCBI.5.0\"          \n",
       "[60] \"BSgenome.Mfuro.UCSC.musFur1\"              \n",
       "[61] \"BSgenome.Mmulatta.UCSC.rheMac10\"          \n",
       "[62] \"BSgenome.Mmulatta.UCSC.rheMac2\"           \n",
       "[63] \"BSgenome.Mmulatta.UCSC.rheMac2.masked\"    \n",
       "[64] \"BSgenome.Mmulatta.UCSC.rheMac3\"           \n",
       "[65] \"BSgenome.Mmulatta.UCSC.rheMac3.masked\"    \n",
       "[66] \"BSgenome.Mmulatta.UCSC.rheMac8\"           \n",
       "[67] \"BSgenome.Mmusculus.UCSC.mm10\"             \n",
       "[68] \"BSgenome.Mmusculus.UCSC.mm10.masked\"      \n",
       "[69] \"BSgenome.Mmusculus.UCSC.mm8\"              \n",
       "[70] \"BSgenome.Mmusculus.UCSC.mm8.masked\"       \n",
       "[71] \"BSgenome.Mmusculus.UCSC.mm9\"              \n",
       "[72] \"BSgenome.Mmusculus.UCSC.mm9.masked\"       \n",
       "[73] \"BSgenome.Osativa.MSU.MSU7\"                \n",
       "[74] \"BSgenome.Ptroglodytes.UCSC.panTro2\"       \n",
       "[75] \"BSgenome.Ptroglodytes.UCSC.panTro2.masked\"\n",
       "[76] \"BSgenome.Ptroglodytes.UCSC.panTro3\"       \n",
       "[77] \"BSgenome.Ptroglodytes.UCSC.panTro3.masked\"\n",
       "[78] \"BSgenome.Ptroglodytes.UCSC.panTro5\"       \n",
       "[79] \"BSgenome.Ptroglodytes.UCSC.panTro6\"       \n",
       "[80] \"BSgenome.Rnorvegicus.UCSC.rn4\"            \n",
       "[81] \"BSgenome.Rnorvegicus.UCSC.rn4.masked\"     \n",
       "[82] \"BSgenome.Rnorvegicus.UCSC.rn5\"            \n",
       "[83] \"BSgenome.Rnorvegicus.UCSC.rn5.masked\"     \n",
       "[84] \"BSgenome.Rnorvegicus.UCSC.rn6\"            \n",
       "[85] \"BSgenome.Scerevisiae.UCSC.sacCer1\"        \n",
       "[86] \"BSgenome.Scerevisiae.UCSC.sacCer2\"        \n",
       "[87] \"BSgenome.Scerevisiae.UCSC.sacCer3\"        \n",
       "[88] \"BSgenome.Sscrofa.UCSC.susScr11\"           \n",
       "[89] \"BSgenome.Sscrofa.UCSC.susScr3\"            \n",
       "[90] \"BSgenome.Sscrofa.UCSC.susScr3.masked\"     \n",
       "[91] \"BSgenome.Tgondii.ToxoDB.7.0\"              \n",
       "[92] \"BSgenome.Tguttata.UCSC.taeGut1\"           \n",
       "[93] \"BSgenome.Tguttata.UCSC.taeGut1.masked\"    \n",
       "[94] \"BSgenome.Tguttata.UCSC.taeGut2\"           \n",
       "[95] \"BSgenome.Vvinifera.URGI.IGGP12Xv0\"        \n",
       "[96] \"BSgenome.Vvinifera.URGI.IGGP12Xv2\"        \n",
       "[97] \"BSgenome.Vvinifera.URGI.IGGP8X\"           "
      ]
     },
     "metadata": {},
     "output_type": "display_data"
    }
   ],
   "source": [
    "#As a recap, the BSgenome package makes available various public genomes. If you want to explore the available genomes from this package, you can use:\n",
    "# The list of names will appear in the following format: BSgenome.speciesName.provider.version. \n",
    "available.genomes()"
   ]
  },
  {
   "cell_type": "markdown",
   "metadata": {},
   "source": [
    "# The study focuses on E. coli \n",
    "==> BSgenome.Ecoli.NCBI.20080805"
   ]
  },
  {
   "cell_type": "code",
   "execution_count": 9,
   "metadata": {},
   "outputs": [
    {
     "name": "stderr",
     "output_type": "stream",
     "text": [
      "Bioconductor version 3.10 (BiocManager 1.30.10), R 3.6.1 (2019-07-05)\n",
      "Installing package(s) 'BSgenome.Ecoli.NCBI.20080805'\n",
      "installing the source package 'BSgenome.Ecoli.NCBI.20080805'\n",
      "\n",
      "Old packages: 'askpass', 'backports', 'BH', 'boot', 'broom', 'callr', 'caret',\n",
      "  'class', 'cli', 'clipr', 'cluster', 'curl', 'data.table', 'DBI', 'dbplyr',\n",
      "  'devtools', 'digest', 'doParallel', 'dplyr', 'e1071', 'ellipse', 'ellipsis',\n",
      "  'evaluate', 'fansi', 'forcats', 'foreach', 'formatR', 'fs', 'ggplot2', 'gh',\n",
      "  'git2r', 'glmnet', 'glue', 'gower', 'h2o', 'haven', 'hexbin', 'hms',\n",
      "  'htmltools', 'htmlwidgets', 'httpuv', 'httr', 'ipred', 'IRkernel',\n",
      "  'ISOcodes', 'iterators', 'jsonlite', 'KernSmooth', 'knitr', 'later',\n",
      "  'lattice', 'lava', 'lubridate', 'markdown', 'MASS', 'Matrix', 'mgcv', 'mime',\n",
      "  'miscTools', 'ModelMetrics', 'modelr', 'nlme', 'nnet', 'numDeriv', 'openssl',\n",
      "  'pillar', 'pkgbuild', 'pkgconfig', 'pkgload', 'plyr', 'prettyunits',\n",
      "  'processx', 'prodlim', 'progress', 'promises', 'ps', 'purrr', 'quantmod',\n",
      "  'R6', 'rcmdcheck', 'Rcpp', 'RcppArmadillo', 'RCurl', 'recipes', 'remotes',\n",
      "  'repr', 'reprex', 'reshape2', 'rlang', 'rmarkdown', 'rstudioapi', 'rvest',\n",
      "  'scales', 'selectr', 'shiny', 'SnowballC', 'spatial', 'SQUAREM', 'stopwords',\n",
      "  'stringi', 'survival', 'sys', 'tibble', 'tidyr', 'tidyselect', 'tidytext',\n",
      "  'tidyverse', 'tinytex', 'TTR', 'usethis', 'uuid', 'whisker', 'withr', 'xfun',\n",
      "  'xgboost', 'xml2', 'xts', 'yaml', 'zoo'\n"
     ]
    }
   ],
   "source": [
    "# Install package BSgenome.Scerevisiae.UCSC.sacCer3\n",
    "BiocManager::install(\"BSgenome.Ecoli.NCBI.20080805\")\n",
    "\n",
    "# Load the package\n",
    "library(BSgenome.Ecoli.NCBI.20080805)"
   ]
  },
  {
   "cell_type": "code",
   "execution_count": 10,
   "metadata": {},
   "outputs": [
    {
     "data": {
      "text/plain": [
       "E. coli genome:\n",
       "# organism: Escherichia coli (E. coli)\n",
       "# provider: NCBI\n",
       "# provider version: 2008/08/05\n",
       "# release date: NA\n",
       "# release name: NA\n",
       "# 13 sequences:\n",
       "#   NC_008253 NC_008563 NC_010468 NC_004431 NC_009801 NC_009800 NC_002655\n",
       "#   NC_002695 NC_010498 NC_007946 NC_010473 NC_000913 AC_000091          \n",
       "# (use 'seqnames()' to see all the sequence names, use the '$' or '[[' operator\n",
       "# to access a given sequence)"
      ]
     },
     "metadata": {},
     "output_type": "display_data"
    }
   ],
   "source": [
    "# Assign data to the EcoliGenome object\n",
    "EcoliGenome <- BSgenome.Ecoli.NCBI.20080805\n",
    "EcoliGenome"
   ]
  },
  {
   "cell_type": "code",
   "execution_count": 11,
   "metadata": {},
   "outputs": [
    {
     "data": {
      "text/html": [
       "<ol class=list-inline>\n",
       "\t<li>'NC_008253'</li>\n",
       "\t<li>'NC_008563'</li>\n",
       "\t<li>'NC_010468'</li>\n",
       "\t<li>'NC_004431'</li>\n",
       "\t<li>'NC_009801'</li>\n",
       "\t<li>'NC_009800'</li>\n",
       "</ol>\n"
      ],
      "text/latex": [
       "\\begin{enumerate*}\n",
       "\\item 'NC\\_008253'\n",
       "\\item 'NC\\_008563'\n",
       "\\item 'NC\\_010468'\n",
       "\\item 'NC\\_004431'\n",
       "\\item 'NC\\_009801'\n",
       "\\item 'NC\\_009800'\n",
       "\\end{enumerate*}\n"
      ],
      "text/markdown": [
       "1. 'NC_008253'\n",
       "2. 'NC_008563'\n",
       "3. 'NC_010468'\n",
       "4. 'NC_004431'\n",
       "5. 'NC_009801'\n",
       "6. 'NC_009800'\n",
       "\n",
       "\n"
      ],
      "text/plain": [
       "[1] \"NC_008253\" \"NC_008563\" \"NC_010468\" \"NC_004431\" \"NC_009801\" \"NC_009800\""
      ]
     },
     "metadata": {},
     "output_type": "display_data"
    }
   ],
   "source": [
    "# Get the head of seqnamesfor EcoliGenome\n",
    "head(seqnames(EcoliGenome))"
   ]
  },
  {
   "cell_type": "code",
   "execution_count": 12,
   "metadata": {},
   "outputs": [
    {
     "data": {
      "text/html": [
       "<dl class=dl-horizontal>\n",
       "\t<dt>NC_008253</dt>\n",
       "\t\t<dd>4938920</dd>\n",
       "\t<dt>NC_008563</dt>\n",
       "\t\t<dd>5082025</dd>\n",
       "\t<dt>NC_010468</dt>\n",
       "\t\t<dd>4746218</dd>\n",
       "\t<dt>NC_004431</dt>\n",
       "\t\t<dd>5231428</dd>\n",
       "\t<dt>NC_009801</dt>\n",
       "\t\t<dd>4979619</dd>\n",
       "\t<dt>NC_009800</dt>\n",
       "\t\t<dd>4643538</dd>\n",
       "</dl>\n"
      ],
      "text/latex": [
       "\\begin{description*}\n",
       "\\item[NC\\textbackslash{}\\_008253] 4938920\n",
       "\\item[NC\\textbackslash{}\\_008563] 5082025\n",
       "\\item[NC\\textbackslash{}\\_010468] 4746218\n",
       "\\item[NC\\textbackslash{}\\_004431] 5231428\n",
       "\\item[NC\\textbackslash{}\\_009801] 4979619\n",
       "\\item[NC\\textbackslash{}\\_009800] 4643538\n",
       "\\end{description*}\n"
      ],
      "text/markdown": [
       "NC_008253\n",
       ":   4938920NC_008563\n",
       ":   5082025NC_010468\n",
       ":   4746218NC_004431\n",
       ":   5231428NC_009801\n",
       ":   4979619NC_009800\n",
       ":   4643538\n",
       "\n"
      ],
      "text/plain": [
       "NC_008253 NC_008563 NC_010468 NC_004431 NC_009801 NC_009800 \n",
       "  4938920   5082025   4746218   5231428   4979619   4643538 "
      ]
     },
     "metadata": {},
     "output_type": "display_data"
    }
   ],
   "source": [
    "# Get the head of seqlengths for EcoliGenome\n",
    "head(seqlengths(EcoliGenome))"
   ]
  },
  {
   "cell_type": "code",
   "execution_count": 13,
   "metadata": {},
   "outputs": [
    {
     "data": {
      "text/plain": [
       "  4938920-letter \"DNAString\" instance\n",
       "seq: AGCTTTTCATTCTGACTGCAACGGGCAATATGTCTC...ATCACCAAATAAAAAACGCCTTAGTAAGTGATTTTC"
      ]
     },
     "metadata": {},
     "output_type": "display_data"
    }
   ],
   "source": [
    "# The firt of the 13 sequences of E. coli\n",
    "EcoliGenome$NC_008253"
   ]
  },
  {
   "cell_type": "code",
   "execution_count": 14,
   "metadata": {},
   "outputs": [
    {
     "data": {
      "text/html": [
       "4938920"
      ],
      "text/latex": [
       "4938920"
      ],
      "text/markdown": [
       "4938920"
      ],
      "text/plain": [
       "[1] 4938920"
      ]
     },
     "metadata": {},
     "output_type": "display_data"
    }
   ],
   "source": [
    "# Count characters of the chrM sequence\n",
    "nchar(EcoliGenome$NC_008253)"
   ]
  },
  {
   "cell_type": "code",
   "execution_count": 15,
   "metadata": {},
   "outputs": [
    {
     "data": {
      "text/plain": [
       "  A DNAStringSet instance of length 13\n",
       "     width seq                                              names               \n",
       " [1]    30 AGCTTTTCATTCTGACTGCAACGGGCAATA                   NC_008253\n",
       " [2]    30 AACGGGCAATATGTCTCTGTGTGGATTAAA                   NC_008563\n",
       " [3]    30 TGTTTCAGCCTTAGTCATTATCGACTTTTG                   NC_010468\n",
       " [4]    30 AGCTTTTCATTCTGACTGCAACGGGCAATA                   NC_004431\n",
       " [5]    30 AGCTTTTCATTCTGACTGCAACGGGCAATA                   NC_009801\n",
       " ...   ... ...\n",
       " [9]    30 GCTTTTCATTCTGACTGCAACGGGCAATAT                   NC_010498\n",
       "[10]    30 AGCTTTTCATTCTGACTGCAACGGGCAATA                   NC_007946\n",
       "[11]    30 AGCTTTTCATTCTGACTGCAACGGGCAATA                   NC_010473\n",
       "[12]    30 AGCTTTTCATTCTGACTGCAACGGGCAATA                   NC_000913\n",
       "[13]    30 AGCTTTTCATTCTGACTGCAACGGGCAATA                   AC_000091"
      ]
     },
     "metadata": {},
     "output_type": "display_data"
    }
   ],
   "source": [
    "# Get the first 30 bases for the 13 sequences ==> Width = 30\n",
    "getSeq(EcoliGenome, start = 1, end = 30)"
   ]
  },
  {
   "cell_type": "code",
   "execution_count": 16,
   "metadata": {},
   "outputs": [
    {
     "data": {
      "text/plain": [
       "  A DNAStringSet instance of length 13\n",
       "       width seq                                            names               \n",
       " [1] 4938920 AGCTTTTCATTCTGACTGCAAC...ACGCCTTAGTAAGTGATTTTC NC_008253\n",
       " [2] 5082025 AACGGGCAATATGTCTCTGTGT...TCAGCTTTTCATTCTGACTGC NC_008563\n",
       " [3] 4746218 TGTTTCAGCCTTAGTCATTATC...ACGTACGTCAACAATCATGAA NC_010468\n",
       " [4] 5231428 AGCTTTTCATTCTGACTGCAAC...ACGCCTTAGTAAGTGATTTTC NC_004431\n",
       " [5] 4979619 AGCTTTTCATTCTGACTGCAAC...ACGCCTTAGTAAGTATTTTTC NC_009801\n",
       " ...     ... ...\n",
       " [9] 5068389 GCTTTTCATTCTGACTGCAACG...CGCCTTTGTAAGTATTTTTCA NC_010498\n",
       "[10] 5065741 AGCTTTTCATTCTGACTGCAAC...ACGCCTTAGTAAGTGATTTTC NC_007946\n",
       "[11] 4686137 AGCTTTTCATTCTGACTGCAAC...ACGCCTTAGTAAGTATTTTTC NC_010473\n",
       "[12] 4639675 AGCTTTTCATTCTGACTGCAAC...ACGCCTTAGTAAGTATTTTTC NC_000913\n",
       "[13] 4646332 AGCTTTTCATTCTGACTGCAAC...ACGCCTTAGTAAGTATTTTTC AC_000091"
      ]
     },
     "metadata": {},
     "output_type": "display_data"
    }
   ],
   "source": [
    "# Get the first of the 13 sequences (full length) \n",
    "EcoliSet_13seq <- getSeq(EcoliGenome)\n",
    "EcoliSet_13seq "
   ]
  },
  {
   "cell_type": "code",
   "execution_count": 17,
   "metadata": {},
   "outputs": [
    {
     "data": {
      "text/plain": [
       "  A DNAStringSet instance of length 1\n",
       "      width seq                                             names               \n",
       "[1] 4938920 AGCTTTTCATTCTGACTGCAAC...AACGCCTTAGTAAGTGATTTTC NC_008253"
      ]
     },
     "metadata": {},
     "output_type": "display_data"
    }
   ],
   "source": [
    "# Name F the firts of the 13 sequences of  E. coli ==> NC_008253\n",
    "F <- EcoliSet_13seq[1]\n",
    "F"
   ]
  },
  {
   "cell_type": "code",
   "execution_count": 18,
   "metadata": {},
   "outputs": [
    {
     "data": {
      "text/html": [
       "<ol class=list-inline>\n",
       "\t<li>'A'</li>\n",
       "\t<li>'C'</li>\n",
       "\t<li>'G'</li>\n",
       "\t<li>'T'</li>\n",
       "\t<li>'M'</li>\n",
       "\t<li>'R'</li>\n",
       "\t<li>'W'</li>\n",
       "\t<li>'S'</li>\n",
       "\t<li>'Y'</li>\n",
       "\t<li>'K'</li>\n",
       "\t<li>'V'</li>\n",
       "\t<li>'H'</li>\n",
       "\t<li>'D'</li>\n",
       "\t<li>'B'</li>\n",
       "\t<li>'N'</li>\n",
       "\t<li>'-'</li>\n",
       "\t<li>'+'</li>\n",
       "\t<li>'.'</li>\n",
       "</ol>\n"
      ],
      "text/latex": [
       "\\begin{enumerate*}\n",
       "\\item 'A'\n",
       "\\item 'C'\n",
       "\\item 'G'\n",
       "\\item 'T'\n",
       "\\item 'M'\n",
       "\\item 'R'\n",
       "\\item 'W'\n",
       "\\item 'S'\n",
       "\\item 'Y'\n",
       "\\item 'K'\n",
       "\\item 'V'\n",
       "\\item 'H'\n",
       "\\item 'D'\n",
       "\\item 'B'\n",
       "\\item 'N'\n",
       "\\item '-'\n",
       "\\item '+'\n",
       "\\item '.'\n",
       "\\end{enumerate*}\n"
      ],
      "text/markdown": [
       "1. 'A'\n",
       "2. 'C'\n",
       "3. 'G'\n",
       "4. 'T'\n",
       "5. 'M'\n",
       "6. 'R'\n",
       "7. 'W'\n",
       "8. 'S'\n",
       "9. 'Y'\n",
       "10. 'K'\n",
       "11. 'V'\n",
       "12. 'H'\n",
       "13. 'D'\n",
       "14. 'B'\n",
       "15. 'N'\n",
       "16. '-'\n",
       "17. '+'\n",
       "18. '.'\n",
       "\n",
       "\n"
      ],
      "text/plain": [
       " [1] \"A\" \"C\" \"G\" \"T\" \"M\" \"R\" \"W\" \"S\" \"Y\" \"K\" \"V\" \"H\" \"D\" \"B\" \"N\" \"-\" \"+\" \".\""
      ]
     },
     "metadata": {},
     "output_type": "display_data"
    }
   ],
   "source": [
    "# Check the alphabet of F : the first sequence of E. coli ==> EcoliGenome$NC_008253\n",
    "alphabet(F)"
   ]
  },
  {
   "cell_type": "code",
   "execution_count": 19,
   "metadata": {},
   "outputs": [
    {
     "data": {
      "text/html": [
       "<table>\n",
       "<thead><tr><th scope=col>A</th><th scope=col>C</th><th scope=col>G</th><th scope=col>T</th><th scope=col>M</th><th scope=col>R</th><th scope=col>W</th><th scope=col>S</th><th scope=col>Y</th><th scope=col>K</th><th scope=col>V</th><th scope=col>H</th><th scope=col>D</th><th scope=col>B</th><th scope=col>N</th><th scope=col>-</th><th scope=col>+</th><th scope=col>.</th></tr></thead>\n",
       "<tbody>\n",
       "\t<tr><td>1222723</td><td>1251581</td><td>1243439</td><td>1221177</td><td>0      </td><td>0      </td><td>0      </td><td>0      </td><td>0      </td><td>0      </td><td>0      </td><td>0      </td><td>0      </td><td>0      </td><td>0      </td><td>0      </td><td>0      </td><td>0      </td></tr>\n",
       "</tbody>\n",
       "</table>\n"
      ],
      "text/latex": [
       "\\begin{tabular}{llllllllllllllllll}\n",
       " A & C & G & T & M & R & W & S & Y & K & V & H & D & B & N & - & + & .\\\\\n",
       "\\hline\n",
       "\t 1222723 & 1251581 & 1243439 & 1221177 & 0       & 0       & 0       & 0       & 0       & 0       & 0       & 0       & 0       & 0       & 0       & 0       & 0       & 0      \\\\\n",
       "\\end{tabular}\n"
      ],
      "text/markdown": [
       "\n",
       "| A | C | G | T | M | R | W | S | Y | K | V | H | D | B | N | - | + | . |\n",
       "|---|---|---|---|---|---|---|---|---|---|---|---|---|---|---|---|---|---|\n",
       "| 1222723 | 1251581 | 1243439 | 1221177 | 0       | 0       | 0       | 0       | 0       | 0       | 0       | 0       | 0       | 0       | 0       | 0       | 0       | 0       |\n",
       "\n"
      ],
      "text/plain": [
       "     A       C       G       T       M R W S Y K V H D B N - + .\n",
       "[1,] 1222723 1251581 1243439 1221177 0 0 0 0 0 0 0 0 0 0 0 0 0 0"
      ]
     },
     "metadata": {},
     "output_type": "display_data"
    }
   ],
   "source": [
    "# Check the alphabetFrequency of F : the first sequence of E. coli ==> EcoliGenome$NC_008253\n",
    "alphabetFrequency(F)\n",
    "# this is DNA MATERIAL using A, T, C and G"
   ]
  },
  {
   "cell_type": "code",
   "execution_count": 20,
   "metadata": {},
   "outputs": [
    {
     "data": {
      "text/html": [
       "<ol class=list-inline>\n",
       "\t<li>'A'</li>\n",
       "\t<li>'C'</li>\n",
       "\t<li>'G'</li>\n",
       "\t<li>'T'</li>\n",
       "</ol>\n"
      ],
      "text/latex": [
       "\\begin{enumerate*}\n",
       "\\item 'A'\n",
       "\\item 'C'\n",
       "\\item 'G'\n",
       "\\item 'T'\n",
       "\\end{enumerate*}\n"
      ],
      "text/markdown": [
       "1. 'A'\n",
       "2. 'C'\n",
       "3. 'G'\n",
       "4. 'T'\n",
       "\n",
       "\n"
      ],
      "text/plain": [
       "[1] \"A\" \"C\" \"G\" \"T\""
      ]
     },
     "metadata": {},
     "output_type": "display_data"
    }
   ],
   "source": [
    "# Check alphabet of F : the first sequence of E. coli ==> using baseOnly = TRUE\n",
    "alphabet(F, baseOnly = TRUE)"
   ]
  },
  {
   "cell_type": "code",
   "execution_count": 21,
   "metadata": {},
   "outputs": [
    {
     "data": {
      "text/html": [
       "'DNAStringSet'"
      ],
      "text/latex": [
       "'DNAStringSet'"
      ],
      "text/markdown": [
       "'DNAStringSet'"
      ],
      "text/plain": [
       "[1] \"DNAStringSet\"\n",
       "attr(,\"package\")\n",
       "[1] \"Biostrings\""
      ]
     },
     "metadata": {},
     "output_type": "display_data"
    }
   ],
   "source": [
    "# Check the class of F : the first sequence of E. coli\n",
    "class(F)"
   ]
  },
  {
   "cell_type": "code",
   "execution_count": 23,
   "metadata": {},
   "outputs": [],
   "source": [
    "# Load packages\n",
    "library(Biostrings)"
   ]
  },
  {
   "cell_type": "code",
   "execution_count": 24,
   "metadata": {},
   "outputs": [
    {
     "data": {
      "text/plain": [
       "  30-letter \"DNAString\" instance\n",
       "seq: AGCTTTTCATTCTGACTGCAACGGGCAATA"
      ]
     },
     "metadata": {},
     "output_type": "display_data"
    },
    {
     "data": {
      "text/plain": [
       "  30-letter \"RNAString\" instance\n",
       "seq: AGCUUUUCAUUCUGACUGCAACGGGCAAUA"
      ]
     },
     "metadata": {},
     "output_type": "display_data"
    },
    {
     "data": {
      "text/plain": [
       "  10-letter \"AAString\" instance\n",
       "seq: SFSF*LQRAI"
      ]
     },
     "metadata": {},
     "output_type": "display_data"
    }
   ],
   "source": [
    "# Unlist the set, select the first 30 letters, and assign to dna_seq\n",
    "dna_seq <- subseq(unlist(F), end = 30)\n",
    "dna_seq\n",
    "\n",
    "# Transcribe dna_seq into an RNAString object and print it\n",
    "rna_seq <- RNAString(dna_seq) \n",
    "rna_seq\n",
    "\n",
    "# Translate rna_seq into an AAString object and print it\n",
    "aa_seq <- translate(rna_seq)\n",
    "aa_seq"
   ]
  },
  {
   "cell_type": "code",
   "execution_count": 25,
   "metadata": {},
   "outputs": [
    {
     "data": {
      "text/plain": [
       "  4938920-letter \"DNAString\" instance\n",
       "seq: AGCTTTTCATTCTGACTGCAACGGGCAATATGTCTC...ATCACCAAATAAAAAACGCCTTAGTAAGTGATTTTC"
      ]
     },
     "metadata": {},
     "output_type": "display_data"
    },
    {
     "data": {
      "text/plain": [
       "  A DNAStringSet instance of length 1\n",
       "      width seq                                             names               \n",
       "[1] 4938920 AGCTTTTCATTCTGACTGCAAC...AACGCCTTAGTAAGTGATTTTC NC_008253"
      ]
     },
     "metadata": {},
     "output_type": "display_data"
    },
    {
     "data": {
      "text/html": [
       "1"
      ],
      "text/latex": [
       "1"
      ],
      "text/markdown": [
       "1"
      ],
      "text/plain": [
       "[1] 1"
      ]
     },
     "metadata": {},
     "output_type": "display_data"
    },
    {
     "data": {
      "text/html": [
       "4938920"
      ],
      "text/latex": [
       "4938920"
      ],
      "text/markdown": [
       "4938920"
      ],
      "text/plain": [
       "[1] 4938920"
      ]
     },
     "metadata": {},
     "output_type": "display_data"
    }
   ],
   "source": [
    "# Deal with format\n",
    "f <- unlist(F)\n",
    "f\n",
    "F\n",
    "# Check the length of F and f\n",
    "length(F)\n",
    "length(f)"
   ]
  },
  {
   "cell_type": "code",
   "execution_count": 26,
   "metadata": {},
   "outputs": [
    {
     "data": {
      "text/html": [
       "4938920"
      ],
      "text/latex": [
       "4938920"
      ],
      "text/markdown": [
       "4938920"
      ],
      "text/plain": [
       "[1] 4938920"
      ]
     },
     "metadata": {},
     "output_type": "display_data"
    }
   ],
   "source": [
    "# Check the width of F : the first of teh 13 sequence of E. coli\n",
    "width(F)"
   ]
  },
  {
   "cell_type": "code",
   "execution_count": 27,
   "metadata": {},
   "outputs": [
    {
     "data": {
      "text/plain": [
       "  30-letter \"DNAString\" instance\n",
       "seq: AGCTTTTCATTCTGACTGCAACGGGCAATA"
      ]
     },
     "metadata": {},
     "output_type": "display_data"
    }
   ],
   "source": [
    "# Subset f to only the first 30 bases\n",
    "f_30 <- subseq(f, end = 30)\n",
    "f_30"
   ]
  },
  {
   "cell_type": "code",
   "execution_count": 28,
   "metadata": {},
   "outputs": [
    {
     "data": {
      "text/plain": [
       "  30-letter \"DNAString\" instance\n",
       "seq: ATAACGGGCAACGTCAGTCTTACTTTTCGA"
      ]
     },
     "metadata": {},
     "output_type": "display_data"
    },
    {
     "data": {
      "text/plain": [
       "  30-letter \"DNAString\" instance\n",
       "seq: TCGAAAAGTAAGACTGACGTTGCCCGTTAT"
      ]
     },
     "metadata": {},
     "output_type": "display_data"
    },
    {
     "data": {
      "text/plain": [
       "  30-letter \"DNAString\" instance\n",
       "seq: TATTGCCCGTTGCAGTCAGAATGAAAAGCT"
      ]
     },
     "metadata": {},
     "output_type": "display_data"
    },
    {
     "data": {
      "text/plain": [
       "  10-letter \"AAString\" instance\n",
       "seq: SFSF*LQRAI"
      ]
     },
     "metadata": {},
     "output_type": "display_data"
    }
   ],
   "source": [
    "# Reverse the f_30 sequence\n",
    "reverse(f_30)\n",
    "\n",
    "# Complement the f_30 sequence\n",
    "complement(f_30)\n",
    "\n",
    "# Reverse complement the f_30 sequence\n",
    "reverseComplement(f_30)\n",
    "\n",
    "# Translate the f_30 sequence\n",
    "translate(f_30)"
   ]
  },
  {
   "cell_type": "code",
   "execution_count": 29,
   "metadata": {},
   "outputs": [
    {
     "data": {
      "text/plain": [
       "MIndex object of length 1\n",
       "$NC_008253\n",
       "IRanges object with 0 ranges and 0 metadata columns:\n",
       "       start       end     width\n",
       "   <integer> <integer> <integer>\n"
      ]
     },
     "metadata": {},
     "output_type": "display_data"
    },
    {
     "data": {
      "text/plain": [
       "  Views on a 4938920-letter DNAString subject\n",
       "subject: AGCTTTTCATTCTGACTGCAACGGGCAATATGTC...CACCAAATAAAAAACGCCTTAGTAAGTGATTTTC\n",
       "views: NONE"
      ]
     },
     "metadata": {},
     "output_type": "display_data"
    }
   ],
   "source": [
    "# For Sets\n",
    "vmatchPattern(pattern = \"ACATGGGCCTACCATGGGAG\", \n",
    "              subject = F, max.mismatch = 1)\n",
    "# For single sequences\n",
    "matchPattern(pattern = \"ACATGGGCCTACCATGGGAG\", \n",
    "             subject = f, max.mismatch = 1)"
   ]
  },
  {
   "cell_type": "code",
   "execution_count": 30,
   "metadata": {},
   "outputs": [
    {
     "data": {
      "text/plain": [
       "  Views on a 4938920-letter DNAString subject\n",
       "subject: AGCTTTTCATTCTGACTGCAACGGGCAATATGTC...CACCAAATAAAAAACGCCTTAGTAAGTGATTTTC\n",
       "views:\n",
       "          start     end width\n",
       "    [1]     101     110    10 [TAAAATTTTA]\n",
       "    [2]     416     424     9 [TGCCAGGCA]\n",
       "    [3]     431     440    10 [GGTGGCCACC]\n",
       "    [4]     669     679    11 [GGGCAGTGCCC]\n",
       "    [5]     729     739    11 [GCCATTATGGC]\n",
       "    ...     ...     ...   ... ...\n",
       "[36719] 4938001 4938010    10 [TTTTATAAAA]\n",
       "[36720] 4938377 4938384     8 [TAATATTA]\n",
       "[36721] 4938441 4938452    12 [ACTGCGCGCAGT]\n",
       "[36722] 4938620 4938628     9 [GGATTATCC]\n",
       "[36723] 4938904 4938912     9 [CTTAGTAAG]"
      ]
     },
     "metadata": {},
     "output_type": "display_data"
    }
   ],
   "source": [
    "# Find palindromes in f ==> there are a lots of palindromes in thes first sequence of E. coli\n",
    "findPalindromes(f)"
   ]
  },
  {
   "cell_type": "code",
   "execution_count": 31,
   "metadata": {},
   "outputs": [
    {
     "data": {
      "text/plain": [
       "  A DNAStringSet instance of length 3\n",
       "      width seq                                             names               \n",
       "[1] 4938920 AGCTTTTCATTCTGACTGCAAC...AACGCCTTAGTAAGTGATTTTC NC_008253\n",
       "[2] 5082025 AACGGGCAATATGTCTCTGTGT...TTCAGCTTTTCATTCTGACTGC NC_008563\n",
       "[3] 4746218 TGTTTCAGCCTTAGTCATTATC...GACGTACGTCAACAATCATGAA NC_010468"
      ]
     },
     "metadata": {},
     "output_type": "display_data"
    }
   ],
   "source": [
    "# Create EcoliSet_3seq with the 3 first of the 13 sequences of E. coli\n",
    "EcoliSet_3seq <- EcoliSet_13seq[1:3]\n",
    "EcoliSet_3seq"
   ]
  },
  {
   "cell_type": "code",
   "execution_count": 32,
   "metadata": {},
   "outputs": [
    {
     "data": {
      "text/plain": [
       "  A DNAStringSet instance of length 3\n",
       "    width seq                                               names               \n",
       "[1]    31 AACGGGCAATATGTCTCTGTGTGGATTAAAA                   NC_008253\n",
       "[2]     6 TCTGAT                                            NC_008563\n",
       "[3]    21 GTTTCAGCCTTAGTCATTATC                             NC_010468"
      ]
     },
     "metadata": {},
     "output_type": "display_data"
    },
    {
     "data": {
      "text/html": [
       "<ol class=list-inline>\n",
       "\t<li>31</li>\n",
       "\t<li>6</li>\n",
       "\t<li>21</li>\n",
       "</ol>\n"
      ],
      "text/latex": [
       "\\begin{enumerate*}\n",
       "\\item 31\n",
       "\\item 6\n",
       "\\item 21\n",
       "\\end{enumerate*}\n"
      ],
      "text/markdown": [
       "1. 31\n",
       "2. 6\n",
       "3. 21\n",
       "\n",
       "\n"
      ],
      "text/plain": [
       "[1] 31  6 21"
      ]
     },
     "metadata": {},
     "output_type": "display_data"
    }
   ],
   "source": [
    "# Select 30 bases in each of the 3 sequences pf the EcoliSet_3seq\n",
    "S <- subseq(EcoliSet_3seq, \n",
    "        start = c(20, 40, 2), \n",
    "        end = c(50, 45, 22)\n",
    "     )\n",
    "S\n",
    "\n",
    "# The width is obtained according to the start and end argument that were chosen to create S \n",
    "width(S)"
   ]
  },
  {
   "cell_type": "code",
   "execution_count": 33,
   "metadata": {},
   "outputs": [
    {
     "data": {
      "text/plain": [
       "  A DNAStringSet instance of length 6\n",
       "      width seq                                             names               \n",
       "[1] 4938920 AGCTTTTCATTCTGACTGCAAC...AACGCCTTAGTAAGTGATTTTC NC_008253\n",
       "[2] 5082025 AACGGGCAATATGTCTCTGTGT...TTCAGCTTTTCATTCTGACTGC NC_008563\n",
       "[3] 4746218 TGTTTCAGCCTTAGTCATTATC...GACGTACGTCAACAATCATGAA NC_010468\n",
       "[4] 5231428 AGCTTTTCATTCTGACTGCAAC...AACGCCTTAGTAAGTGATTTTC NC_004431\n",
       "[5] 4979619 AGCTTTTCATTCTGACTGCAAC...AACGCCTTAGTAAGTATTTTTC NC_009801\n",
       "[6] 4643538 AGCTTTTCATTCTGACTGCAAC...AACGCCTTAGTAAGTATTTTTC NC_009800"
      ]
     },
     "metadata": {},
     "output_type": "display_data"
    }
   ],
   "source": [
    "EcoliSet_6seq <- EcoliSet_13seq[1:6]\n",
    "EcoliSet_6seq"
   ]
  },
  {
   "cell_type": "code",
   "execution_count": 34,
   "metadata": {},
   "outputs": [
    {
     "data": {
      "text/plain": [
       "  A DNAStringSet instance of length 6\n",
       "    width seq                                               names               \n",
       "[1]   300 AGCTTTTCATTCTGACTGCAACG...AAGCCCGCACCTGACAGTGCGGG NC_008253\n",
       "[2]   300 AACGGGCAATATGTCTCTGTGTG...CGGGCTTTTTTTTCGACCAAAGG NC_008563\n",
       "[3]   300 TGTTTCAGCCTTAGTCATTATCG...AGTCGGCACCAAACCGGTGACGC NC_010468\n",
       "[4]   300 AGCTTTTCATTCTGACTGCAACG...AAGCCCGCACCTGACAGTGCGGG NC_004431\n",
       "[5]   300 AGCTTTTCATTCTGACTGCAACG...AAGCCCGCACCTGACAGTGCGGG NC_009801\n",
       "[6]   300 AGCTTTTCATTCTGACTGCAACG...AAGCCCGCACCTGACAGTGCGGG NC_009800"
      ]
     },
     "metadata": {},
     "output_type": "display_data"
    }
   ],
   "source": [
    "# Create dnaframesEcoliSet with the 6 first DNA sequences (of 13) of E. coli - select the first 300 bases\n",
    "dnaframesEcoliSet <- subseq((EcoliSet_6seq), end = 300)\n",
    "dnaframesEcoliSet"
   ]
  },
  {
   "cell_type": "code",
   "execution_count": 35,
   "metadata": {},
   "outputs": [
    {
     "data": {
      "text/plain": [
       "  A AAStringSet instance of length 6\n",
       "    width seq                                               names               \n",
       "[1]   100 SFSF*LQRAICLCVD*KKSV**Q...TTGNGAG*RVQETQKKART*QCG NC_008253\n",
       "[2]   100 NGQYVSVWIKKRVSDSSF*TGYL...ADAYRKHRKKPAPDSAGFFFDQR NC_008563\n",
       "[3]   100 CFSLSHYRLLFEWSPPCHFRFGS...C*PVSAERMPHSCVLKSAPNR*R NC_010468\n",
       "[4]   100 SFSF*LQRAICLCVD*KKSV**Q...TTGNGAG*RVQETQKKART*QCG NC_004431\n",
       "[5]   100 SFSF*LQRAICLCVD*KKSV**Q...TTGNGAG*RVQETQKKART*QCG NC_009801\n",
       "[6]   100 SFSF*LQRAICLCVD*KKSV**Q...TTGNGAG*RVQETQKKART*QCG NC_009800"
      ]
     },
     "metadata": {},
     "output_type": "display_data"
    }
   ],
   "source": [
    "# Translate to create the rnaframesEcoliSet with the 6 first RNA sequences (of 13) of E. coli - select the first 30 bases\n",
    "rnaframesEcoliSet <- translate(dnaframesEcoliSet)\n",
    "rnaframesEcoliSet"
   ]
  }
 ],
 "metadata": {
  "kernelspec": {
   "display_name": "R",
   "language": "R",
   "name": "ir"
  },
  "language_info": {
   "codemirror_mode": "r",
   "file_extension": ".r",
   "mimetype": "text/x-r-source",
   "name": "R",
   "pygments_lexer": "r",
   "version": "3.6.1"
  }
 },
 "nbformat": 4,
 "nbformat_minor": 4
}
